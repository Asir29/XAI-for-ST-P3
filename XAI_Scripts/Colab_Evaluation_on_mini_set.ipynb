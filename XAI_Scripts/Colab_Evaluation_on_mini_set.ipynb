{
  "cells": [
    {
      "cell_type": "code",
      "execution_count": null,
      "metadata": {
        "id": "38utHDshPPaL"
      },
      "outputs": [],
      "source": [
        "!pip install -q condacolab\n",
        "import condacolab\n",
        "condacolab.install() ### THIS WILL RESTART THE SESSION, CONTINUE FROM THE NEXT CELL.\n"
      ]
    },
    {
      "cell_type": "code",
      "execution_count": null,
      "metadata": {
        "id": "w-gHRTDAPcZv"
      },
      "outputs": [],
      "source": [
        "!git clone https://github.com/Asir29/XAI-for-ST-P3.git\n"
      ]
    },
    {
      "cell_type": "code",
      "execution_count": null,
      "metadata": {
        "id": "K85h3WLhPmMs"
      },
      "outputs": [],
      "source": [
        "# STEP 1: Create and activate a conda environment (no `activate`, just use `conda run`)\n",
        "!conda env create -f XAI-for-ST-P3/ST-P3/environment.yml\n",
        "\n",
        "\n"
      ]
    },
    {
      "cell_type": "code",
      "execution_count": null,
      "metadata": {
        "id": "SUiL9R7hYco0"
      },
      "outputs": [],
      "source": [
        "! conda run -n stp3 pip install nuscenes-devkit==1.1.0\n",
        "! conda run -n stp3 pip install lyft-dataset-sdk==0.0.8\n",
        "! conda run -n stp3 pip install opencv-python==4.5.1.48\n",
        "! conda run -n stp3 pip install moviepy==1.0.3\n"
      ]
    },
    {
      "cell_type": "code",
      "execution_count": null,
      "metadata": {
        "id": "miqAV_OGYU-l"
      },
      "outputs": [],
      "source": [
        "!conda run -n stp3  pip install --upgrade nuscenes-devkit\n"
      ]
    },
    {
      "cell_type": "code",
      "execution_count": null,
      "metadata": {
        "id": "VjOUq0bRQ7AG"
      },
      "outputs": [],
      "source": [
        "!conda run -n stp3 conda list\n"
      ]
    },
    {
      "cell_type": "code",
      "execution_count": null,
      "metadata": {
        "id": "bt2X6FcDUaTn"
      },
      "outputs": [],
      "source": [
        "%cd XAI-for-ST-P3/ST-P3\n",
        "! conda run -n stp3 install gdown==4.7.1\n",
        "\n",
        "import gdown\n",
        "\n",
        "file_id = '1fPAzrgohTVeFfyXSUh5wUHB_US8v9HFa'\n",
        "gdown.download(f'https://drive.google.com/uc?id={file_id}', output='checkpoint_file', quiet=False)\n"
      ]
    },
    {
      "cell_type": "code",
      "execution_count": null,
      "metadata": {
        "id": "7-1HFu4sVNZu"
      },
      "outputs": [],
      "source": [
        "%cd /content/XAI-for-ST-P3/ST-P3\n",
        "\n",
        "# Create the directory to store the nuScenes dataset in.\n",
        "!conda run -n stp3 mkdir -p nuscenes\n",
        "\n",
        "# Download the nuScenes mini split.\n",
        "!conda run -n stp3 wget https://www.nuscenes.org/data/v1.0-mini.tgz\n",
        "\n",
        "# Uncompress the nuScenes mini split.\n",
        "!conda run -n stp3 tar -xzf v1.0-mini.tgz -C nuscenes\n",
        "\n"
      ]
    },
    {
      "cell_type": "code",
      "execution_count": null,
      "metadata": {
        "id": "MIKkt-TtHqs5"
      },
      "outputs": [],
      "source": [
        "!wget -O can_bus.zip \"https://zenodo.org/records/15667420/files/can_bus.zip?download=1\"\n",
        "\n",
        "!unzip can_bus.zip -d /content/XAI-for-ST-P3/ST-P3/nuscenes\n"
      ]
    },
    {
      "cell_type": "code",
      "execution_count": null,
      "metadata": {
        "id": "_R8AaNSbbZqw"
      },
      "outputs": [],
      "source": [
        "# Move all files from the inner can_bus up one level\n",
        "%mv nuscenes/can_bus/can_bus/* nuscenes/can_bus/\n",
        "\n",
        "# Remove the now-empty inner can_bus folder\n",
        "%rmdir nuscenes/can_bus/can_bus\n"
      ]
    },
    {
      "cell_type": "code",
      "execution_count": null,
      "metadata": {
        "id": "dt6rgv4MLtmD"
      },
      "outputs": [],
      "source": [
        "!wget -O map_expansion.zip \"https://zenodo.org/records/15667707/files/nuScenes-map-expansion-v1.3.zip?download=1\"\n",
        "!unzip map_expansion.zip -d /content/XAI-for-ST-P3/ST-P3/nuscenes/maps\n"
      ]
    },
    {
      "cell_type": "code",
      "execution_count": null,
      "metadata": {
        "id": "ix3tyhCkYILB"
      },
      "outputs": [],
      "source": [
        "%cd /content/XAI-for-ST-P3/ST-P3\n",
        "!conda run -n stp3 chmod +x scripts/eval_plan.sh\n"
      ]
    },
    {
      "cell_type": "code",
      "execution_count": null,
      "metadata": {
        "id": "-Q0B3JwDWTLv"
      },
      "outputs": [],
      "source": [
        "%cd /content/XAI-for-ST-P3/ST-P3\n",
        "\n",
        "!conda run -n stp3 scripts/eval_plan.sh checkpoint_file nuscenes\n"
      ]
    },
    {
      "cell_type": "code",
      "execution_count": null,
      "metadata": {
        "id": "INZsHbr6dA2w"
      },
      "outputs": [],
      "source": [
        "!zip -r /content/06_15_11_02_59.zip /content/XAI-for-ST-P3/ST-P3/imgs/06_15_11_02_59\n"
      ]
    },
    {
      "cell_type": "code",
      "source": [
        "%cd /content/XAI-for-ST-P3/ST-P3/imgs\n",
        "%rm -rf 06*\n",
        "\n"
      ],
      "metadata": {
        "id": "n7PygAflT-Rm"
      },
      "execution_count": null,
      "outputs": []
    },
    {
      "cell_type": "code",
      "source": [
        "! conda run -n stp3 pip install grad-cam"
      ],
      "metadata": {
        "id": "qvY6aEKHUolb"
      },
      "execution_count": null,
      "outputs": []
    }
  ],
  "metadata": {
    "accelerator": "GPU",
    "colab": {
      "gpuType": "T4",
      "provenance": []
    },
    "kernelspec": {
      "display_name": "Python 3",
      "name": "python3"
    },
    "language_info": {
      "name": "python"
    }
  },
  "nbformat": 4,
  "nbformat_minor": 0
}